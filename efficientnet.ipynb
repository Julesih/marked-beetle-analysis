{
  "nbformat": 4,
  "nbformat_minor": 0,
  "metadata": {
    "colab": {
      "name": "efficientnet.ipynb",
      "provenance": [],
      "collapsed_sections": [],
      "authorship_tag": "ABX9TyNmeqVjffgGWXX5i0p3N7Ov",
      "include_colab_link": true
    },
    "kernelspec": {
      "name": "python3",
      "display_name": "Python 3"
    },
    "language_info": {
      "name": "python"
    }
  },
  "cells": [
    {
      "cell_type": "markdown",
      "metadata": {
        "id": "view-in-github",
        "colab_type": "text"
      },
      "source": [
        "<a href=\"https://colab.research.google.com/github/hhduke2014/marked-beetle-analysis/blob/main/efficientnet.ipynb\" target=\"_parent\"><img src=\"https://colab.research.google.com/assets/colab-badge.svg\" alt=\"Open In Colab\"/></a>"
      ]
    },
    {
      "cell_type": "code",
      "metadata": {
        "id": "SHs4dfjjzajb"
      },
      "source": [
        "import os\n",
        "import glob\n",
        "import shutil\n",
        "import json\n",
        "import keras\n",
        "import itertools\n",
        "import numpy as np\n",
        "import pandas as pd\n",
        "import seaborn as sns\n",
        "import tensorflow as tf\n",
        "from PIL import Image\n",
        "import matplotlib.pyplot as plt\n",
        "from collections import Counter\n",
        "from keras.preprocessing.image import ImageDataGenerator\n",
        "\n",
        "import cv2"
      ],
      "execution_count": 49,
      "outputs": []
    },
    {
      "cell_type": "code",
      "metadata": {
        "colab": {
          "base_uri": "https://localhost:8080/"
        },
        "id": "ylX9Zbt-3d6H",
        "outputId": "0773e366-91f1-49d7-eae3-47b8bafc4f58"
      },
      "source": [
        "from google.colab import drive\n",
        "drive.mount('/content/drive')"
      ],
      "execution_count": 11,
      "outputs": [
        {
          "output_type": "stream",
          "text": [
            "Mounted at /content/drive\n"
          ],
          "name": "stdout"
        }
      ]
    },
    {
      "cell_type": "code",
      "metadata": {
        "colab": {
          "base_uri": "https://localhost:8080/"
        },
        "id": "e3LKi4Xy4RSl",
        "outputId": "d66b5370-cfc1-4396-f4c1-f56c91bdf72f"
      },
      "source": [
        "filenames = os.listdir(\"/content/drive/MyDrive/MarkedBeetleImageAnalysis\")\n",
        "filenames[:4]"
      ],
      "execution_count": 43,
      "outputs": [
        {
          "output_type": "execute_result",
          "data": {
            "text/plain": [
              "['PaperedControl20v_light.tif',\n",
              " 'PaperedControl20d.tif',\n",
              " 'PaperedControl20d_light.tif',\n",
              " 'PaperedControl21v.tif']"
            ]
          },
          "metadata": {
            "tags": []
          },
          "execution_count": 43
        }
      ]
    },
    {
      "cell_type": "code",
      "metadata": {
        "colab": {
          "base_uri": "https://localhost:8080/"
        },
        "id": "5ejUzEdWBYZy",
        "outputId": "84d1f199-8936-4297-9fba-839e84eae54f"
      },
      "source": [
        "train_images=[]\n",
        "for filename in filenames:\n",
        "    if filename.startswith('Papered') or filename.startswith('Pink') or filename.startswith('NoPapered'):\n",
        "        train_images.append(filename)\n",
        "print(f\"Number of Train images: {len(train_images)}\")"
      ],
      "execution_count": 66,
      "outputs": [
        {
          "output_type": "stream",
          "text": [
            "Number of Train images: 976\n"
          ],
          "name": "stdout"
        }
      ]
    },
    {
      "cell_type": "code",
      "metadata": {
        "colab": {
          "base_uri": "https://localhost:8080/"
        },
        "id": "M-NfIU9nCB-o",
        "outputId": "6a37f2a7-0e01-404a-f3e0-e3fbd486df67"
      },
      "source": [
        "test_images=[]\n",
        "for filename in filenames:\n",
        "    if filename.startswith('Trap'):\n",
        "        test_images.append(filename)\n",
        "print(f\"Number of Test images: {len(test_images)}\")"
      ],
      "execution_count": 67,
      "outputs": [
        {
          "output_type": "stream",
          "text": [
            "Number of Test images: 77\n"
          ],
          "name": "stdout"
        }
      ]
    },
    {
      "cell_type": "code",
      "metadata": {
        "colab": {
          "base_uri": "https://localhost:8080/"
        },
        "id": "f7y5DhXHASfT",
        "outputId": "5ddc99a6-efa8-4936-8cc2-1fb4dabf835a"
      },
      "source": [
        "categories = []\n",
        "for filename in train_images:\n",
        "    if filename.startswith('Papered') or filename.startswith('Pink') or filename.startswith('Trap'):\n",
        "        categories.append('Marked')\n",
        "    if filename.startswith('NoPapered'):\n",
        "        categories.append('NotMarked')\n",
        "len(categories)"
      ],
      "execution_count": 75,
      "outputs": [
        {
          "output_type": "execute_result",
          "data": {
            "text/plain": [
              "976"
            ]
          },
          "metadata": {
            "tags": []
          },
          "execution_count": 75
        }
      ]
    },
    {
      "cell_type": "code",
      "metadata": {
        "colab": {
          "base_uri": "https://localhost:8080/",
          "height": 419
        },
        "id": "Y3bezq7q4C3a",
        "outputId": "d7872ac9-4f8c-44c2-ff90-1430cbc837a3"
      },
      "source": [
        "\n",
        "train_df = pd.DataFrame({\n",
        "    'filename': train_images,\n",
        "    'category': categories\n",
        "})\n",
        "train_df"
      ],
      "execution_count": 76,
      "outputs": [
        {
          "output_type": "execute_result",
          "data": {
            "text/html": [
              "<div>\n",
              "<style scoped>\n",
              "    .dataframe tbody tr th:only-of-type {\n",
              "        vertical-align: middle;\n",
              "    }\n",
              "\n",
              "    .dataframe tbody tr th {\n",
              "        vertical-align: top;\n",
              "    }\n",
              "\n",
              "    .dataframe thead th {\n",
              "        text-align: right;\n",
              "    }\n",
              "</style>\n",
              "<table border=\"1\" class=\"dataframe\">\n",
              "  <thead>\n",
              "    <tr style=\"text-align: right;\">\n",
              "      <th></th>\n",
              "      <th>filename</th>\n",
              "      <th>category</th>\n",
              "    </tr>\n",
              "  </thead>\n",
              "  <tbody>\n",
              "    <tr>\n",
              "      <th>0</th>\n",
              "      <td>PaperedControl20v_light.tif</td>\n",
              "      <td>Marked</td>\n",
              "    </tr>\n",
              "    <tr>\n",
              "      <th>1</th>\n",
              "      <td>PaperedControl20d.tif</td>\n",
              "      <td>Marked</td>\n",
              "    </tr>\n",
              "    <tr>\n",
              "      <th>2</th>\n",
              "      <td>PaperedControl20d_light.tif</td>\n",
              "      <td>Marked</td>\n",
              "    </tr>\n",
              "    <tr>\n",
              "      <th>3</th>\n",
              "      <td>PaperedControl21v.tif</td>\n",
              "      <td>Marked</td>\n",
              "    </tr>\n",
              "    <tr>\n",
              "      <th>4</th>\n",
              "      <td>PaperedControl21v_light.tif</td>\n",
              "      <td>Marked</td>\n",
              "    </tr>\n",
              "    <tr>\n",
              "      <th>...</th>\n",
              "      <td>...</td>\n",
              "      <td>...</td>\n",
              "    </tr>\n",
              "    <tr>\n",
              "      <th>971</th>\n",
              "      <td>PaperedControl18v.tif</td>\n",
              "      <td>Marked</td>\n",
              "    </tr>\n",
              "    <tr>\n",
              "      <th>972</th>\n",
              "      <td>PaperedControl18d.tif</td>\n",
              "      <td>Marked</td>\n",
              "    </tr>\n",
              "    <tr>\n",
              "      <th>973</th>\n",
              "      <td>PaperedControl19v.tif</td>\n",
              "      <td>Marked</td>\n",
              "    </tr>\n",
              "    <tr>\n",
              "      <th>974</th>\n",
              "      <td>PaperedControl19d.tif</td>\n",
              "      <td>Marked</td>\n",
              "    </tr>\n",
              "    <tr>\n",
              "      <th>975</th>\n",
              "      <td>PaperedControl20v.tif</td>\n",
              "      <td>Marked</td>\n",
              "    </tr>\n",
              "  </tbody>\n",
              "</table>\n",
              "<p>976 rows × 2 columns</p>\n",
              "</div>"
            ],
            "text/plain": [
              "                        filename category\n",
              "0    PaperedControl20v_light.tif   Marked\n",
              "1          PaperedControl20d.tif   Marked\n",
              "2    PaperedControl20d_light.tif   Marked\n",
              "3          PaperedControl21v.tif   Marked\n",
              "4    PaperedControl21v_light.tif   Marked\n",
              "..                           ...      ...\n",
              "971        PaperedControl18v.tif   Marked\n",
              "972        PaperedControl18d.tif   Marked\n",
              "973        PaperedControl19v.tif   Marked\n",
              "974        PaperedControl19d.tif   Marked\n",
              "975        PaperedControl20v.tif   Marked\n",
              "\n",
              "[976 rows x 2 columns]"
            ]
          },
          "metadata": {
            "tags": []
          },
          "execution_count": 76
        }
      ]
    },
    {
      "cell_type": "code",
      "metadata": {
        "colab": {
          "base_uri": "https://localhost:8080/",
          "height": 279
        },
        "id": "T7Sfhz0hDJ7i",
        "outputId": "51eb1748-3e71-420f-8935-61115f4428c3"
      },
      "source": [
        "plt.figure(figsize=(8, 4))\n",
        "sns.countplot(y=\"category\", data=train_df);"
      ],
      "execution_count": 79,
      "outputs": [
        {
          "output_type": "display_data",
          "data": {
            "image/png": "[encoded data removed]",
            "text/plain": [
              "<Figure size 576x288 with 1 Axes>"
            ]
          },
          "metadata": {
            "tags": [],
            "needs_background": "light"
          }
        }
      ]
    },
    {
      "cell_type": "code",
      "metadata": {
        "colab": {
          "base_uri": "https://localhost:8080/"
        },
        "id": "45uUZNDm8Iw3",
        "outputId": "475c91e2-9884-45fb-a2f0-1155fdfdad85"
      },
      "source": [
        "image = cv2.imread(os.path.join(\"/content/drive/MyDrive/MarkedBeetleImageAnalysis\", filenames[0]))\n",
        "image.shape"
      ],
      "execution_count": 80,
      "outputs": [
        {
          "output_type": "execute_result",
          "data": {
            "text/plain": [
              "(1944, 2592, 3)"
            ]
          },
          "metadata": {
            "tags": []
          },
          "execution_count": 80
        }
      ]
    },
    {
      "cell_type": "code",
      "metadata": {
        "id": "r-DVMu6sEctE"
      },
      "source": [
        ""
      ],
      "execution_count": null,
      "outputs": []
    },
    {
      "cell_type": "code",
      "metadata": {
        "id": "dtqqQ6g-z9yO"
      },
      "source": [
        "IMG_SIZE = 456\n",
        "size = (IMG_SIZE,IMG_SIZE)\n",
        "n_CLASS = 5\n",
        "BATCH_SIZE = 15"
      ],
      "execution_count": 4,
      "outputs": []
    },
    {
      "cell_type": "code",
      "metadata": {
        "colab": {
          "base_uri": "https://localhost:8080/"
        },
        "id": "SfGQizsBzpHz",
        "outputId": "efdab0c9-292b-4a9e-9403-11816a0d584c"
      },
      "source": [
        "from keras.models import Sequential\n",
        "from keras.layers import GlobalAveragePooling2D, Flatten, Dense, Dropout, BatchNormalization\n",
        "from keras.optimizers import RMSprop, Adam\n",
        "from keras.callbacks import EarlyStopping, ModelCheckpoint, ReduceLROnPlateau\n",
        "from tensorflow.keras.applications import EfficientNetB3\n",
        "\n",
        "def create_model():\n",
        "    \n",
        "    model = Sequential()\n",
        "    # initialize the model with input shape\n",
        "    model.add(EfficientNetB3(input_shape = (IMG_SIZE, IMG_SIZE, 3), include_top = False,\n",
        "                             weights = 'imagenet',\n",
        "                             drop_connect_rate=0.6))\n",
        "    #for layer in model.layers[:-40]:  # Training just part of the architecture do not optimize the performance\n",
        "    #    layer.trainable = False\n",
        "    model.add(GlobalAveragePooling2D())\n",
        "    model.add(Flatten())\n",
        "    model.add(Dense(256, activation = 'relu', bias_regularizer=tf.keras.regularizers.L1L2(l1=0.01, l2=0.001)))\n",
        "    model.add(Dropout(0.5))\n",
        "    model.add(Dense(n_CLASS, activation = 'softmax'))\n",
        "    \n",
        "    return model\n",
        "\n",
        "leaf_model = create_model()\n",
        "leaf_model.build((None,IMG_SIZE, IMG_SIZE, 3))\n",
        "leaf_model.summary()"
      ],
      "execution_count": 10,
      "outputs": [
        {
          "output_type": "stream",
          "text": [
            "Model: \"sequential_6\"\n",
            "_________________________________________________________________\n",
            "Layer (type)                 Output Shape              Param #   \n",
            "=================================================================\n",
            "module_wrapper_6 (ModuleWrap (None, 15, 15, 1536)      10783535  \n",
            "_________________________________________________________________\n",
            "global_average_pooling2d_6 ( (None, 1536)              0         \n",
            "_________________________________________________________________\n",
            "flatten_6 (Flatten)          (None, 1536)              0         \n",
            "_________________________________________________________________\n",
            "dense_12 (Dense)             (None, 256)               393472    \n",
            "_________________________________________________________________\n",
            "dropout_6 (Dropout)          (None, 256)               0         \n",
            "_________________________________________________________________\n",
            "dense_13 (Dense)             (None, 5)                 1285      \n",
            "=================================================================\n",
            "Total params: 11,178,292\n",
            "Trainable params: 11,090,989\n",
            "Non-trainable params: 87,303\n",
            "_________________________________________________________________\n"
          ],
          "name": "stdout"
        }
      ]
    },
    {
      "cell_type": "code",
      "metadata": {
        "id": "suWaZEQNz_cV"
      },
      "source": [
        ""
      ],
      "execution_count": null,
      "outputs": []
    }
  ]
}